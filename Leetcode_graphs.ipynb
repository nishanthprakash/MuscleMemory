{
 "cells": [
  {
   "cell_type": "markdown",
   "metadata": {},
   "source": [
    "133. Clone Graph\n",
    "---\n",
    "\n",
    "Clone an undirected graph. Each node in the graph contains a label and a list of its neighbors.  \n",
    "\n",
    "\n",
    "OJ's undirected graph serialization:  \n",
    "Nodes are labeled uniquely.  \n",
    "\n",
    "We use # as a separator for each node, and , as a separator for node label and each neighbor of the node.  \n",
    "As an example, consider the serialized graph {0,1,2#1,2#2,2}.  \n",
    "\n",
    "The graph has a total of three nodes, and therefore contains three parts as separated by #.  \n",
    "\n",
    "First node is labeled as 0. Connect node 0 to both nodes 1 and 2.  \n",
    "Second node is labeled as 1. Connect node 1 to node 2.  \n",
    "Third node is labeled as 2. Connect node 2 to node 2 (itself), thus forming a self-cycle.  \n",
    "Visually, the graph looks like the following:  \n",
    "<pre>\n",
    "       1\n",
    "      / \\\n",
    "     /   \\\n",
    "    0 --- 2\n",
    "         / \\\n",
    "         \\_/\n",
    "</pre>"
   ]
  },
  {
   "cell_type": "code",
   "execution_count": 15,
   "metadata": {},
   "outputs": [
    {
     "name": "stdout",
     "output_type": "stream",
     "text": [
      "False\n",
      "True\n",
      "[1, 2]\n",
      "[0, 2]\n",
      "[0, 1, 2]\n"
     ]
    }
   ],
   "source": [
    "# Definition for a undirected graph node\n",
    "class UndirectedGraphNode:\n",
    "    def __init__(self, x):\n",
    "        self.label = x\n",
    "        self.neighbors = []\n",
    "\n",
    "class Solution:\n",
    "    # @param node, a undirected graph node\n",
    "    # @return a undirected graph node\n",
    "    def cloneGraph(self, node):\n",
    "        \n",
    "        visited = set()\n",
    "        Q=[node]\n",
    "        parent = None\n",
    "        while Q:\n",
    "            curr=Q.pop(0)\n",
    "            clcurr = UndirectedGraphNode(curr.label)\n",
    "            if parent:\n",
    "                parent.neighbors.append(clcurr)\n",
    "                clcurr.neighbors.append(parent)\n",
    "            else:\n",
    "                root=clcurr\n",
    "            visited.add(curr)\n",
    "            for i in curr.neighbors:\n",
    "                if i not in visited:\n",
    "                    Q.append(i)\n",
    "            parent = clcurr\n",
    "        return root\n",
    "\n",
    "s=Solution()\n",
    "n0 = UndirectedGraphNode(0)\n",
    "n1 = UndirectedGraphNode(1)\n",
    "n2 = UndirectedGraphNode(2)\n",
    "n0.neighbors = [n1, n2]\n",
    "n1.neighbors = [n0, n2]\n",
    "n2.neighbors = [n0, n1, n2]\n",
    "c0 = s.cloneGraph(n0)\n",
    "\n",
    "print c0 is n0\n",
    "print c0.label==n0.label\n",
    "for i in [n0]+n0.neighbors:\n",
    "    print map(lambda x: x.label, i.neighbors)"
   ]
  },
  {
   "cell_type": "markdown",
   "metadata": {},
   "source": [
    "210. Course Schedule II\n",
    "----\n",
    "There are a total of n courses you have to take, labeled from 0 to n - 1.\n",
    "\n",
    "Some courses may have prerequisites, for example to take course 0 you have to first take course 1, which is expressed as a pair: [0,1]\n",
    "\n",
    "Given the total number of courses and a list of prerequisite pairs, return the ordering of courses you should take to finish all courses.\n",
    "\n",
    "There may be multiple correct orders, you just need to return one of them. If it is impossible to finish all courses, return an empty array.\n",
    "\n",
    "For example:\n",
    "<pre>\n",
    "2, [[1,0]]\n",
    "There are a total of 2 courses to take. To take course 1 you should have finished course 0. So the correct course order is [0,1]\n",
    "\n",
    "4, [[1,0],[2,0],[3,1],[3,2]]\n",
    "There are a total of 4 courses to take. To take course 3 you should have finished both courses 1 and 2. Both courses 1 and 2 should be taken after you finished course 0. So one correct course order is [0,1,2,3]. Another correct ordering is[0,2,1,3].\n",
    "\n",
    "Note:\n",
    "The input prerequisites is a graph represented by a list of edges, not adjacency matrices. Read more about how a graph is represented.\n",
    "You may assume that there are no duplicate edges in the input prerequisites."
   ]
  },
  {
   "cell_type": "code",
   "execution_count": 34,
   "metadata": {},
   "outputs": [
    {
     "data": {
      "text/plain": [
       "(True, [0, 1, 2, 3])"
      ]
     },
     "execution_count": 34,
     "metadata": {},
     "output_type": "execute_result"
    }
   ],
   "source": [
    "class Solution(object):\n",
    "    def findOrder(self, numCourses, preqs):\n",
    "        \"\"\"\n",
    "        :type numCourses: int\n",
    "        :type prerequisites: List[List[int]]\n",
    "        :rtype: List[int]\n",
    "        \"\"\"\n",
    "        take = []\n",
    "        npreqs = {}\n",
    "        nexts = {}\n",
    "        for i in range(numCourses):\n",
    "            npreqs[i] = 0\n",
    "            nexts[i] = []\n",
    "        \n",
    "        for i in preqs:\n",
    "            nexts[i[1]] += [i[0]]\n",
    "        \n",
    "        for i in preqs:\n",
    "            npreqs[i[0]] += 1\n",
    "        \n",
    "        Q = []\n",
    "        for i in npreqs:\n",
    "            if not npreqs[i]:\n",
    "                Q.append(i)\n",
    "                npreqs[i] = -1\n",
    "        while Q:\n",
    "            curr = Q.pop(0)\n",
    "            take.append(curr)\n",
    "            for i in nexts[curr]:\n",
    "                npreqs[i]-=1\n",
    "\n",
    "            #for i in npreqs:       #we can just add the children, \n",
    "                                    #the different tree roots have already been added in init of Q\n",
    "                if not npreqs[i]:\n",
    "                    Q.append(i) \n",
    "                    npreqs[i] = -1\n",
    "            \n",
    "        if len(take) == numCourses:\n",
    "            return (True, take)\n",
    "        else:\n",
    "            return (False, [])\n",
    "        \n",
    "s=Solution()\n",
    "s.findOrder(4, [[1, 0], [3, 0], [2, 0], [3, 1], [3, 2]])\n",
    "        \n",
    "# This is basically a WFS/toposort kind of problem\n",
    "\n",
    "# The above is BFS (filling from source to sink), time complexity is O(V+E) [Note this is actually same as O(|V|*sum_i(deg(v_i))]\n",
    "# cos in the while-and-for nesting we observe that each node is visited once and each edge is visited once only\n",
    "\n",
    "# We can use DFS (like in cycle detection) but fill in from sink to source\n",
    "# Lemma: the first node marked \"done\" by DFSCycleDetector must be a sink\n"
   ]
  },
  {
   "cell_type": "code",
   "execution_count": null,
   "metadata": {
    "collapsed": true
   },
   "outputs": [],
   "source": []
  }
 ],
 "metadata": {
  "kernelspec": {
   "display_name": "Python 2",
   "language": "python",
   "name": "python2"
  },
  "language_info": {
   "codemirror_mode": {
    "name": "ipython",
    "version": 2
   },
   "file_extension": ".py",
   "mimetype": "text/x-python",
   "name": "python",
   "nbconvert_exporter": "python",
   "pygments_lexer": "ipython2",
   "version": "2.7.13"
  }
 },
 "nbformat": 4,
 "nbformat_minor": 2
}
