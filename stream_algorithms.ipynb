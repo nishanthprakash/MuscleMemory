{
 "cells": [
  {
   "cell_type": "markdown",
   "metadata": {},
   "source": [
    "Data Stream Algorithms\n",
    "========\n",
    "\n",
    "In limited space and one pass compute:\n",
    "\n",
    "1. min, max, average\n",
    "2. standard deviation\n",
    "3. moving average\n",
    "4. cardinality (count of distinct items)\n",
    "5. heavy-hitters (most frequent items)\n",
    "6. order statistics (rank of an item in sorted sequence)\n",
    "7. histogram (frequency per item)"
   ]
  },
  {
   "cell_type": "markdown",
   "metadata": {},
   "source": [
    "1. Cardinality\n",
    "----\n",
    "\n",
    "a. Flajolet-Martin sketch algorithm\n",
    "\n",
    "Number of distinct items can be roughly estimated by the position of the rightmost 0-bit\n",
    "\n",
    "b. Hyperloglog\n",
    "\n",
    "\n",
    "Proofs from random linear projection\n"
   ]
  },
  {
   "cell_type": "markdown",
   "metadata": {},
   "source": [
    "2. Heavy-hitters\n",
    "-----\n",
    "a.\n",
    "\n",
    "If the hash map reaches max size, decrement the count of all keys and delete those with 0 counts\n",
    "\n",
    "Count estimates could be wrong but it gives an estimate of which the frequent items are.\n",
    "\n",
    "b. Count-Min sketch\n",
    "\n",
    "Build a table (an array of hash fns.) vs (range of these hash fns.)\n",
    "The counts of items are mixed up across these hashes.\n",
    "Extracts minimum value for each item across all the slots\n",
    "Item which would've occured frequently would've updated the most counts, so atleast one slot would have accurate value\n",
    "\n",
    "Also used for point-queries, range-queries (e.g. items between 10 and 50 counts), joins, compress historical sketches (Hokusai) \n"
   ]
  },
  {
   "cell_type": "markdown",
   "metadata": {},
   "source": [
    "3. Order statistics\n",
    "------\n",
    "\n",
    "Offline algorithm -- quickselect (runs in linear time, but requires knwoledge of all items)\n",
    "\n",
    "a. Frugal streaming (Muthukrishnan et. al.)\n",
    "\n",
    "if item>median_estimate, increment median_estimate, decrement otherwise\n",
    "\n",
    "works if items are random (poor results if the items are sorted)\n",
    "\n",
    "b. T-Digest (Ted Dunning et. al.)\n",
    "\n",
    "K-means for the problem quantiles.  Cluster points together as they come in around centroids (keep mean and count of these pts.) Maintain balanced binary tree. Use the sorted structure to find quantiles.\n",
    "\n",
    "Performs poorly on ascending and descending streams."
   ]
  },
  {
   "cell_type": "markdown",
   "metadata": {},
   "source": [
    "4. Histograms\n",
    "----\n",
    "\n",
    "Problems: \n",
    "1. apriori bucket sizing (lose information after putting it into the bucket -- equidepth, equiwidth solns.)\n",
    "2. how to handle queries on partial buckets\n",
    "\n",
    "Sum and difference game, Discrete Haar wavelet (a frequency transform). Useful to look at things from the frequency domain too\n",
    "\n",
    "A kind of a compression of frequency items, useful for range queries"
   ]
  },
  {
   "cell_type": "markdown",
   "metadata": {},
   "source": [
    "Other problems:\n",
    "\n",
    "1. Sampling\n",
    "2. Multi dimensional or string inputs\n",
    "3. Set membership (bloom filters, etc.)\n",
    "4. Outlier detection\n",
    "5. Time-series related algorithms\n",
    "6. Distributed algorithms "
   ]
  },
  {
   "cell_type": "code",
   "execution_count": null,
   "metadata": {
    "collapsed": true
   },
   "outputs": [],
   "source": []
  },
  {
   "cell_type": "markdown",
   "metadata": {},
   "source": [
    "Sketching: Given data and a function f, compress the data into a sketch to allow computation of f just given the sketch\n",
    "\n",
    "Streaming: Maintain sketch on the fly, as the data is updated\n",
    "\n",
    "\n",
    "Turnstile model.\n",
    "\n",
    "\n",
    "####\n",
    "\n",
    "Suppose pick a random no. between [0, 1), we expect it to be 1/2. If we pick t random numers, we expect the smallest to be 1/(t+1). So, output 1/X_min - 1\n",
    "\n",
    "Hash functions have to be random enough\n",
    "\n",
    "#####\n",
    "\n",
    "Johnson Lindenstrause (random projections method): The L-2 distance between pairs of points is preserved.\n",
    "\n"
   ]
  },
  {
   "cell_type": "code",
   "execution_count": null,
   "metadata": {
    "collapsed": true
   },
   "outputs": [],
   "source": []
  }
 ],
 "metadata": {
  "kernelspec": {
   "display_name": "Python 2",
   "language": "python",
   "name": "python2"
  },
  "language_info": {
   "codemirror_mode": {
    "name": "ipython",
    "version": 2
   },
   "file_extension": ".py",
   "mimetype": "text/x-python",
   "name": "python",
   "nbconvert_exporter": "python",
   "pygments_lexer": "ipython2",
   "version": "2.7.13"
  }
 },
 "nbformat": 4,
 "nbformat_minor": 2
}
