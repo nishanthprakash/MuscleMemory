{
 "cells": [
  {
   "cell_type": "markdown",
   "metadata": {},
   "source": [
    "1. Min cut Square\n",
    "----\n",
    "\n",
    "Given a paper of size A x B. Task is to cut the paper into squares of any size. Find the minimum number of squares that can be cut from the paper.\n",
    "<pre>\n",
    "Input:\n",
    "The first line of input contains an integer T denoting the number of test cases. Then T test cases follow. Each test case contains two integer A and B denoting the two size of the paper.\n",
    "\n",
    "Output:\n",
    "Print the minimum number of squares that can be cut from the paper.\n",
    "\n",
    "Constraints:\n",
    "1<=T<=10^5\n",
    "1<=A<=10^5\n",
    "1<=B<=10^5\n",
    "\n",
    "Example:\n",
    "Input:\n",
    "2\n",
    "13 29\n",
    "30 35\n",
    "\n",
    "Output:\n",
    "9\n",
    "5"
   ]
  },
  {
   "cell_type": "code",
   "execution_count": 21,
   "metadata": {},
   "outputs": [
    {
     "data": {
      "text/plain": [
       "9"
      ]
     },
     "execution_count": 21,
     "metadata": {},
     "output_type": "execute_result"
    }
   ],
   "source": [
    "def minsq(a, b):\n",
    "    def rec(a, b):\n",
    "        #print \"--\"\n",
    "        #print a\n",
    "        #print b\n",
    "        if not a or not b:\n",
    "            return 0\n",
    "        if a==b:\n",
    "            return 1\n",
    "        else:\n",
    "            sm = min(a, b)\n",
    "            mincost = float(\"+infinity\")\n",
    "            for i in range(sm, 0, -1):\n",
    "                cost = 1 + min(rec(a-i, i) + rec(a-i, b-i) + rec(i, b-i), \n",
    "                               rec(i, b-i) + rec(a-i, b), \n",
    "                               rec(a-i, i) + rec(a, b-i))\n",
    "                if cost<mincost:\n",
    "                    mincost=cost\n",
    "            \n",
    "            return mincost\n",
    "    def DP():\n",
    "        \n",
    "        M = [ [0]*(b+1) for i in range(a+1) ]\n",
    "        \n",
    "        for x in range(a+1):\n",
    "            for y in range(b+1):\n",
    "                if x==y:\n",
    "                    M[x][y] = 1\n",
    "                elif not x or not y:\n",
    "                    M[x][y] = 0\n",
    "                else:\n",
    "                    sm = min(x, y)\n",
    "                    mincost = float(\"+infinity\")\n",
    "                    for i in range(sm, 0, -1):\n",
    "                        cost = 1 + min(M[x-i][i] + M[x-i][y-i] + M[i][y-i], # not needed (covered below)\n",
    "                                       M[i][y-i] + M[x-i][y], \n",
    "                                       M[x-i][i] + M[x][y-i])\n",
    "                        if cost<mincost:\n",
    "                            mincost=cost \n",
    "                    M[x][y] = mincost\n",
    "        #print M\n",
    "        return M[a][b]\n",
    "                \n",
    "    #return rec(a, b)\n",
    "    return DP()\n",
    "        \n",
    "minsq(13, 29)\n",
    "\n",
    "# Time Complexity: O((A^2)*B) if A<B\n",
    "# Space Complexity: O(A*B)\n",
    "\n",
    "# Vastly superior to recursive soluion (seems endless)"
   ]
  },
  {
   "cell_type": "code",
   "execution_count": null,
   "metadata": {
    "collapsed": true
   },
   "outputs": [],
   "source": []
  }
 ],
 "metadata": {
  "kernelspec": {
   "display_name": "Python 2",
   "language": "python",
   "name": "python2"
  },
  "language_info": {
   "codemirror_mode": {
    "name": "ipython",
    "version": 2
   },
   "file_extension": ".py",
   "mimetype": "text/x-python",
   "name": "python",
   "nbconvert_exporter": "python",
   "pygments_lexer": "ipython2",
   "version": "2.7.13"
  }
 },
 "nbformat": 4,
 "nbformat_minor": 2
}
