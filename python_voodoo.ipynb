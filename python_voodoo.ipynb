{
 "cells": [
  {
   "cell_type": "markdown",
   "metadata": {},
   "source": [
    "1a. Repeats or List initializations\n",
    "----\n",
    "\n",
    "[e]\\*n \n",
    "\n",
    "works fine for immutables or primitives <br/>\n",
    "but if e is a list or non-primitive object,  <br/>\n",
    "it is interned across all the n occurences in the list"
   ]
  },
  {
   "cell_type": "code",
   "execution_count": 18,
   "metadata": {},
   "outputs": [
    {
     "name": "stdout",
     "output_type": "stream",
     "text": [
      "[[1000, 0, 0, 0, 0], [1000, 0, 0, 0, 0], [1000, 0, 0, 0, 0]]\n",
      "[(0, 0, 0, 0, 0), (0, 0, 0, 0, 0), (0, 0, 0, 0, 0)]\n",
      "[1, 0, 0, 0, 0]\n",
      "[[1000, 0, 0, 0, 0], [0, 0, 0, 0, 0], [0, 0, 0, 0, 0]]\n"
     ]
    }
   ],
   "source": [
    "a = [[0]*5]*3\n",
    "a[0][0] = 1000\n",
    "print a\n",
    "\n",
    "b = [(0, )*5]*3 \n",
    "# can't even assign to b[0][0] as b[0] is immutable\n",
    "print b\n",
    "\n",
    "c = [0]*5\n",
    "c[0] = 1\n",
    "print c\n",
    "\n",
    "d=[]\n",
    "[d.append([0]*5) for i in range(3)]\n",
    "d[0][0] = 1000\n",
    "print d"
   ]
  },
  {
   "cell_type": "markdown",
   "metadata": {},
   "source": [
    "1b. Cloning\n",
    "-------"
   ]
  },
  {
   "cell_type": "code",
   "execution_count": 28,
   "metadata": {},
   "outputs": [
    {
     "name": "stdout",
     "output_type": "stream",
     "text": [
      "[0, 2, 3, 4]\n",
      "[0, 2, 3, 4]\n",
      "[99, 2, 3, 4]\n",
      "[[10, 2, 3], [4, 5, 6], [7, 8, 9]]\n",
      "[[10, 2, 3], [4, 5, 6], [7, 8, 9]]\n",
      "[[10, 2, 3], [101, 102, 103], [7, 8, 9]]\n",
      "[[10, 2, 3], [4, 5, 6], [7, 8, 9]]\n",
      "----\n",
      "[[1, 2, 3], [4, 5, 6]]\n",
      "[[1, 2, 3], [4, 5, 6]]\n",
      "[[1, 10, 3], [4, 5, 6]]\n",
      "[[1, 10, 3], [4, 5, 6]]\n",
      "[[1, 10, 3], [4, 5, 6]]\n",
      "[[1, 10, 3], [4, 5, 6]]\n",
      "[[1, 9, 3], [4, 5, 6]]\n",
      "[[1, 10, 3], [4, 5, 6]]\n"
     ]
    }
   ],
   "source": [
    "a = [1, 2, 3, 4]\n",
    "b = a\n",
    "\n",
    "b[0] = 0\n",
    "print a\n",
    "\n",
    "c = a[:] \n",
    "c[0] = 99\n",
    "print a\n",
    "print c\n",
    "\n",
    "#The above works for list of primitives but if its a list of references (as in list of lists):\n",
    "\n",
    "d = [[1, 2, 3], [4, 5, 6], [7, 8, 9]]\n",
    "e = d[:]\n",
    "d[0][0] = 10\n",
    "print d\n",
    "print e\n",
    "\n",
    "d[1] = [101, 102, 103]\n",
    "print d\n",
    "print e\n",
    "print \"----\"\n",
    "\n",
    "# Same is the issue with list() function\n",
    "x = [[1, 2, 3], [4, 5, 6]]\n",
    "y = list(x)\n",
    "print x\n",
    "print y\n",
    "x[0][1] = 10\n",
    "print x\n",
    "print y   # y changes too -> Not a deepcopy.\n",
    "\n",
    "# Other ways include list comprehension, copy method, clone method etc. \n",
    "# and none work for nested objects,\n",
    "\n",
    "# Solution use deepcopy method, which recursively copies data pointed to by references\n",
    "\n",
    "import copy\n",
    "z = copy.deepcopy(x) # deepcopy preserves the graphical structure of original compound\n",
    "print x\n",
    "print z\n",
    "x[0][1] = 9\n",
    "print x\n",
    "print z    # z doesn't change -> Deep Copy"
   ]
  },
  {
   "cell_type": "markdown",
   "metadata": {},
   "source": [
    "1c. Sorting\n",
    "----\n",
    "\n",
    "lst.sort() does inplace sorting but doesn't return the sorted list, it returns None <br/>\n",
    "sorted(lst) returns a new sorted lst"
   ]
  },
  {
   "cell_type": "code",
   "execution_count": null,
   "metadata": {
    "collapsed": true
   },
   "outputs": [],
   "source": []
  },
  {
   "cell_type": "markdown",
   "metadata": {},
   "source": [
    "2a. Comparisons strs, chars and ints\n",
    "---\n",
    "\n",
    "Comparisons of numbers with strings don't return error! \n",
    "\n",
    "So, careful! Your intentions might be to convert them to the same type to compare.\n",
    "\n",
    "To compare ascii of chars, use ord() function\n"
   ]
  },
  {
   "cell_type": "code",
   "execution_count": 40,
   "metadata": {},
   "outputs": [
    {
     "name": "stdout",
     "output_type": "stream",
     "text": [
      "True\n"
     ]
    }
   ],
   "source": [
    "print 2 < '2'"
   ]
  },
  {
   "cell_type": "markdown",
   "metadata": {},
   "source": [
    "2b. Deep vs Shallow Compares\n",
    "-----\n",
    "\n",
    "'==' does deep compare\n",
    "\n",
    "'is' does shallow compare (this is equivalent to '===' in other languages)\n",
    "\n",
    "object.\\__cmp\\__() method which used to define order is *deprecated* and in its place: rich comparators:<br/>\n",
    "object.\\__lt\\__(self, other) # For x < y<br/>\n",
    "object.\\__le\\__(self, other) # For x <= y<br/>\n",
    "object.\\__eq\\__(self, other) # For x == y<br/>\n",
    "object.\\__ne\\__(self, other) # For x != y OR x <> y<br/>\n",
    "object.\\__gt\\__(self, other) # For x > y<br/>\n",
    "object.\\__ge\\__(self, other) # For x >= y<br/>\n",
    "\n",
    "\n",
    "hash() method: Equal objects hash to same key (number). If two objects hash to the same value, they are likely to be equal but not necessary (collisions)\n"
   ]
  },
  {
   "cell_type": "code",
   "execution_count": 33,
   "metadata": {},
   "outputs": [
    {
     "name": "stdout",
     "output_type": "stream",
     "text": [
      "True\n",
      "False\n",
      "False\n",
      "False\n"
     ]
    }
   ],
   "source": [
    "x = {'p': {'e': {'a': {'*end*': '*end*'}}}, \n",
    "   'r': {'a': {'i': {'n': {'*end*': '*end*'}}}}, \n",
    "   'e': {'a': {'t': {'*end*': '*end*'}}}, \n",
    "   'o': {'a': {'t': {'h': {'*end*': '*end*'}}}}}\n",
    "\n",
    "y = {'p': {'e': {'a': {'*end*': '*end*'}}}, \n",
    "   'r': {'a': {'i': {'n': {'*end*': '*end*'}}}}, \n",
    "   'e': {'a': {'t': {'*end*': '*end*'}}}, \n",
    "   'o': {'a': {'t': {'h': {'*end*': '*end*'}}}}}\n",
    "\n",
    "z= {'p': {'e': {'a': {'*end*': '*end*'}}}, \n",
    "   'r': {'a': {'i': {'n': {'*end*': '*THE INCEPTION*'}}}}, \n",
    "   'e': {'a': {'t': {'*end*': '*end*'}}}, \n",
    "   'o': {'a': {'t': {'h': {'*end*': '*end*'}}}}}\n",
    "\n",
    "print x==y\n",
    "print x is y\n",
    "print x == z\n",
    "print x is z"
   ]
  },
  {
   "cell_type": "markdown",
   "metadata": {},
   "source": [
    "Lambdas\n",
    "----\n",
    "\n",
    "Python lambdas cannot have statements and can only have expressions. So you can't have assignments etc.\n",
    "\n",
    "http://effbot.org/pyfaq/why-can-t-lambda-forms-contain-statements.htm"
   ]
  },
  {
   "cell_type": "code",
   "execution_count": null,
   "metadata": {
    "collapsed": true
   },
   "outputs": [],
   "source": []
  },
  {
   "cell_type": "markdown",
   "metadata": {},
   "source": [
    "Closure\n",
    "----\n",
    "\n",
    "Can be seen as objects.\n",
    "\n",
    "(every time you set a variable on self, you are changing the contents of a closed dictionary -- http://ynniv.com/blog/2007/08/closures-in-python.html)"
   ]
  },
  {
   "cell_type": "code",
   "execution_count": null,
   "metadata": {
    "collapsed": true
   },
   "outputs": [],
   "source": [
    "\n"
   ]
  },
  {
   "cell_type": "markdown",
   "metadata": {},
   "source": [
    "Scoping and Lifting\n",
    "----\n",
    "\n",
    "Sometimes pythons variables closed over by a function are seen as function's local variables (python's demented scoping rules :P). https://stackoverflow.com/questions/4851463/python-closure-write-to-variable-in-parent-scope"
   ]
  },
  {
   "cell_type": "code",
   "execution_count": null,
   "metadata": {
    "collapsed": true
   },
   "outputs": [],
   "source": []
  },
  {
   "cell_type": "code",
   "execution_count": null,
   "metadata": {
    "collapsed": true
   },
   "outputs": [],
   "source": []
  }
 ],
 "metadata": {
  "kernelspec": {
   "display_name": "Python 2",
   "language": "python",
   "name": "python2"
  },
  "language_info": {
   "codemirror_mode": {
    "name": "ipython",
    "version": 2
   },
   "file_extension": ".py",
   "mimetype": "text/x-python",
   "name": "python",
   "nbconvert_exporter": "python",
   "pygments_lexer": "ipython2",
   "version": "2.7.13"
  }
 },
 "nbformat": 4,
 "nbformat_minor": 2
}
